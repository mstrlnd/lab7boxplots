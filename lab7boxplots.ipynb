{
 "cells": [
  {
   "cell_type": "code",
   "execution_count": null,
   "id": "1f56a6b6-e290-45b9-bcf5-39806d9d41d2",
   "metadata": {},
   "outputs": [],
   "source": [
    "#imports\n",
    "import pandas as pd\n",
    "import seaborn as sns\n",
    "import matplotlib.pylab as plt\n",
    "import numpy as np"
   ]
  },
  {
   "cell_type": "markdown",
   "id": "4d29d8db-e392-420c-b259-bc47b76b697a",
   "metadata": {},
   "source": [
    "TimeUse data"
   ]
  },
  {
   "cell_type": "code",
   "execution_count": null,
   "id": "8459e161-f803-477c-a305-8cf8b2a3b872",
   "metadata": {},
   "outputs": [],
   "source": [
    "#load data\n",
    "df = pd.read_csv('TimeUse2023.csv')\n",
    "#add a column for day type which is weekend or weekday\n",
    "df['Day_Type'] = np.where((df['Day'] == 'Day 3 - Sat 6am to Sun 6am') | (df['Day'] == 'Day 4 - Sun 6am to M 6am'), 'weekend','weekday')\n",
    "#number of rows of data and the number of variables - How many rows are there?  How many variables?\n",
    "df.shape"
   ]
  },
  {
   "cell_type": "code",
   "execution_count": null,
   "id": "212d9ebf-9318-47f6-9aca-244e8dfb4935",
   "metadata": {},
   "outputs": [],
   "source": [
    "#Check the datatypes.  \"object\" is categorical.  \"int64\" and \"float64\" are numerical \n",
    "df.dtypes"
   ]
  },
  {
   "cell_type": "code",
   "execution_count": null,
   "id": "2a94833e-ccd0-4d46-8928-627bfc71560d",
   "metadata": {},
   "outputs": [],
   "source": [
    "#preview data\n",
    "df.head()"
   ]
  },
  {
   "cell_type": "code",
   "execution_count": null,
   "id": "5766df63-7442-4211-8839-106afd9073d9",
   "metadata": {},
   "outputs": [],
   "source": [
    "#boxplot - vertical\n",
    "sns.boxplot(y=df['School'])"
   ]
  },
  {
   "cell_type": "code",
   "execution_count": null,
   "id": "48232e57-7d18-45ca-8ba9-9866997301e1",
   "metadata": {},
   "outputs": [],
   "source": [
    "#boxplot - horizontal\n",
    "sns.boxplot(x=df['School'])"
   ]
  },
  {
   "cell_type": "code",
   "execution_count": null,
   "id": "21767a2a-0c4c-4db4-a1f2-7846139d560f",
   "metadata": {},
   "outputs": [],
   "source": [
    "#Horizontal boxplot of School (numerical) faceted by Day (categorical)\n",
    "sns.boxplot(x=df['School'], y=df['Day'])"
   ]
  },
  {
   "cell_type": "code",
   "execution_count": null,
   "id": "c93f0f98-6c60-494d-b446-990d2bbd07c6",
   "metadata": {},
   "outputs": [],
   "source": [
    "#Vertical boxplot of school faceted by Day\n",
    "sns.boxplot(x=df['Day'], y=df['School'])\n",
    "#rotate labels\n",
    "plt.xticks(rotation=45)"
   ]
  },
  {
   "cell_type": "code",
   "execution_count": null,
   "id": "c5d12215-7e62-44f3-8a14-3c37d12307b6",
   "metadata": {},
   "outputs": [],
   "source": [
    "#5 Number Summary\n",
    "df['School'].describe()"
   ]
  },
  {
   "cell_type": "code",
   "execution_count": null,
   "id": "e4ba6780-f384-4c47-9d81-a226e7e2c44c",
   "metadata": {},
   "outputs": [],
   "source": [
    "#5 Number Summary of School grouped by (faceted) by Day\n",
    "df.groupby(['Day'])['School'].describe()"
   ]
  },
  {
   "cell_type": "code",
   "execution_count": null,
   "id": "9100023c-7f14-4063-89d4-b7b3f2199659",
   "metadata": {},
   "outputs": [],
   "source": [
    "#violinplot - vertical \n",
    "#notice that becaues of the math they do to make it smooth, it looks like there are negative values\n",
    "sns.violinplot(y=df['School'])"
   ]
  },
  {
   "cell_type": "code",
   "execution_count": null,
   "id": "394c878c-f1cb-41c5-8c94-12ae808abe08",
   "metadata": {},
   "outputs": [],
   "source": [
    "#violinplot - vertical cut at the max and min of the values\n",
    "sns.violinplot(y=df['School'], cut=0)"
   ]
  },
  {
   "cell_type": "code",
   "execution_count": null,
   "id": "5236f8d0-76fa-4116-88a2-4d0749e55e82",
   "metadata": {},
   "outputs": [],
   "source": [
    "#Vertical vioinplot of School faceted by Day_Type \n",
    "sns.violinplot(x=df['Day_Type'], y=df['School'])"
   ]
  },
  {
   "cell_type": "code",
   "execution_count": null,
   "id": "34ff130b-12db-4f7e-83c8-4330a8d8ee4c",
   "metadata": {},
   "outputs": [],
   "source": [
    "#Vertical vioinplot of School faceted by Day_Type cut at the max and min of the values\n",
    "sns.violinplot(x=df['Day_Type'], y=df['School'], cut=0)"
   ]
  },
  {
   "cell_type": "code",
   "execution_count": null,
   "id": "fb494e3b-9d4d-4aa9-84dd-5036fd514add",
   "metadata": {},
   "outputs": [],
   "source": [
    "#QUESTION #1 - Do your analysis of Time Use here BEFORE you load the Personality Color data\n",
    "#Write your own statistical question and answer it with a plot AND a five number summary\n"
   ]
  },
  {
   "cell_type": "markdown",
   "id": "5f4fe742-7988-4998-a884-23bfbe2c03fa",
   "metadata": {},
   "source": [
    "Personality Color"
   ]
  },
  {
   "cell_type": "code",
   "execution_count": null,
   "id": "84747d8c-b3e4-4e11-b31b-e60ed8d8a139",
   "metadata": {},
   "outputs": [],
   "source": [
    "#load data - this the df variable with Personality Color instead of Time Use\n",
    "df = pd.read_csv('Personality_Colors_2023.csv')\n",
    "#number of rows of data and the number of variables - How many rows are there?  How many variables?\n",
    "df.shape"
   ]
  },
  {
   "cell_type": "code",
   "execution_count": null,
   "id": "e3b3fa0b-15bf-420b-95ee-2e4a596ba407",
   "metadata": {},
   "outputs": [],
   "source": [
    "df.dtypes"
   ]
  },
  {
   "cell_type": "code",
   "execution_count": null,
   "id": "40805f1d-3fae-4bbd-8d8b-4000b922dba4",
   "metadata": {},
   "outputs": [],
   "source": [
    "df.head()"
   ]
  },
  {
   "cell_type": "code",
   "execution_count": null,
   "id": "ef9ad1d7-1a90-4e53-89e6-e07d570d304d",
   "metadata": {},
   "outputs": [],
   "source": [
    "#QUESTION #2 - Investigate your primary personality color\n"
   ]
  },
  {
   "cell_type": "code",
   "execution_count": null,
   "id": "57186058-c33f-4859-81bd-3cd86caef57f",
   "metadata": {},
   "outputs": [],
   "source": [
    "#QUESTION #3 - Write your own statistical question about personality color and answer it with a plot AND a five number summary\n"
   ]
  }
 ],
 "metadata": {
  "kernelspec": {
   "display_name": "Python 3 (ipykernel)",
   "language": "python",
   "name": "python3"
  },
  "language_info": {
   "codemirror_mode": {
    "name": "ipython",
    "version": 3
   },
   "file_extension": ".py",
   "mimetype": "text/x-python",
   "name": "python",
   "nbconvert_exporter": "python",
   "pygments_lexer": "ipython3",
   "version": "3.9.12"
  }
 },
 "nbformat": 4,
 "nbformat_minor": 5
}
